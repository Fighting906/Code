{
 "cells": [
  {
   "cell_type": "code",
   "execution_count": 6,
   "id": "db187134",
   "metadata": {},
   "outputs": [],
   "source": [
    "import numpy as np"
   ]
  },
  {
   "cell_type": "markdown",
   "id": "aa6bea6a",
   "metadata": {},
   "source": [
    "##  查看阵列属性"
   ]
  },
  {
   "cell_type": "code",
   "execution_count": 7,
   "id": "6c2e7f14",
   "metadata": {},
   "outputs": [],
   "source": [
    "#查看数组a1的属性\n",
    "def check(a1):\n",
    "    print(a1)  \n",
    "    print(\"数据类型\",type(a1))           #打印数组数据类型  \n",
    "    print(\"数组元素数据类型：\",a1.dtype) #打印数组元素数据类型  \n",
    "    print(\"数组元素总数：\",a1.size)      #打印数组尺寸，即数组元素总数  \n",
    "    print(\"数组形状：\",a1.shape)         #打印数组形状  \n",
    "    print(\"数组的维度数目\",a1.ndim)      #打印数组的维度数目"
   ]
  },
  {
   "cell_type": "code",
   "execution_count": 8,
   "id": "a9ee1fcf",
   "metadata": {},
   "outputs": [],
   "source": [
    "a=np.ones(3)\n",
    "m=np.shape(a) #返回a的shape\n",
    "n=np.size(a) #返回a的size (数据的个数)\n",
    "n=np.size(a,axis=0)#返回维度为0的 a的size"
   ]
  },
  {
   "cell_type": "markdown",
   "id": "2734c74e",
   "metadata": {},
   "source": [
    "## 生成阵列（numpy.ndarray）"
   ]
  },
  {
   "cell_type": "code",
   "execution_count": 9,
   "id": "8ea7e3cd",
   "metadata": {},
   "outputs": [],
   "source": [
    "a=np.ones(2) #shape(2,)\n",
    "b=np.zeros((3,2,4)) #shape(3,2,4)\n",
    "c=np.array([[0,0],[1,0],[0,1]],dtype=np.complex128) #shape(3,2)\n",
    "d=np.eye(4) #shape(4,4)\n",
    "e=np.arange(0,4) #shape(4,)\n",
    "f=np.arange(0,6).reshape(3,2) #shape(3,2)\n"
   ]
  },
  {
   "cell_type": "markdown",
   "id": "61566a98",
   "metadata": {},
   "source": [
    "## 生成矩阵（numpy.matrix）"
   ]
  },
  {
   "cell_type": "code",
   "execution_count": 10,
   "id": "dc77522f",
   "metadata": {},
   "outputs": [],
   "source": [
    "#只能生成二维\n",
    "a=np.mat([1,2,3]) #shape(1,3)\n",
    "b=np.mat([[1,2,3]]) #shape(1,3)\n",
    "c=np.mat([[1,2,3],[4,5,6]]) #shape(2,3)"
   ]
  },
  {
   "cell_type": "markdown",
   "id": "97a58412",
   "metadata": {},
   "source": [
    "## 阵列矩阵转换（ndarray <=> matrix）"
   ]
  },
  {
   "cell_type": "code",
   "execution_count": 11,
   "id": "9429dc6c",
   "metadata": {},
   "outputs": [],
   "source": [
    "#阵列转换为矩阵\n",
    "a=np.ones((2,2))\n",
    "b=np.mat(a)\n",
    "\n",
    "#矩阵转换为阵列\n",
    "a=np.mat([[1,2,3],[4,5,6]])\n",
    "b=np.array(a)"
   ]
  },
  {
   "cell_type": "markdown",
   "id": "299061e4",
   "metadata": {},
   "source": [
    "## 矩阵乘法"
   ]
  },
  {
   "cell_type": "code",
   "execution_count": 32,
   "id": "ec13bff3",
   "metadata": {},
   "outputs": [],
   "source": [
    "#ndarray\n",
    "a=np.ones((2,2))\n",
    "b=np.arange(0,4).reshape(2,2)\n",
    "\n",
    "#矩阵每个元素相乘\n",
    "c=a*b\n",
    "d=np.multiply(a,b) #c==d\n",
    "\n",
    "#矩阵点乘(矩阵乘法)\n",
    "e=np.dot(a,b)\n",
    "f=a@b \n",
    "g=a.dot(b) #e==f==g\n",
    "\n",
    "#一维与二维点乘 （3,）数字3可以前后移动 不会自动添加1\n",
    "#(3,)@(3,1) =>(1,)\n",
    "#(3,)@(1,3) =>Error\n",
    "#(3,1)@(3,) =>Error\n",
    "\n",
    "#(3,)@(3,3) =>(3,)\n",
    "#(3,3)@(3,) =>(3,)\n",
    "\n",
    "#test\n",
    "# h=np.arange(0,3) #(3,)\n",
    "# j=np.arange(0,3).reshape(3,1) #(3,1)\n",
    "# check(h@j)"
   ]
  },
  {
   "cell_type": "code",
   "execution_count": 13,
   "id": "c740ee3f",
   "metadata": {},
   "outputs": [],
   "source": [
    "#matrix\n",
    "a=np.mat([[1,1],[1,1]])\n",
    "b=np.mat([[0,1],[2,3]])\n",
    "\n",
    "#矩阵每个元素相乘\n",
    "c=np.multiply(a,b) #c!=a*b 与ndarray不同\n",
    "\n",
    "\n",
    "#矩阵点乘(矩阵乘法)\n",
    "d=a*b\n",
    "e=np.dot(a,b)\n",
    "f=a@b \n",
    "g=a.dot(b) #d==e==f==g\n"
   ]
  },
  {
   "cell_type": "markdown",
   "id": "16ce0ffd",
   "metadata": {},
   "source": [
    "## np.random"
   ]
  },
  {
   "cell_type": "code",
   "execution_count": 14,
   "id": "05f68c62",
   "metadata": {},
   "outputs": [],
   "source": [
    "#生成随机数据\n",
    "a=np.random.rand(2,3) #shape(2,3) [0,1)均匀分布 \n",
    "b=np.random.randn(3,2,5) #shape(2,3) 标准正态分布\n",
    "c=np.random.randint(2,4,(2,3)) #shape(2,3) [low,high)\n",
    "\n",
    "#shuffle\n",
    "np.random.shuffle(b) #根据数组a的第1轴（也就是最外层的维度）进行随机排列，改变数组a\n",
    "d=np.random.permutation(b)#根据数组a的第1轴进行随机排列，不改变数组a，返回一个新的数组\n",
    "\n",
    "#choice\n",
    "#从一维数组a中以概率p抽取元素，形成size形状新数组replace表示是否可以重用元素，默认为False\n",
    "e=np.random.choice(b[0][0], size=(1,4), replace=True, p=[0,0,0,0.8,0.2])\n",
    "\n"
   ]
  },
  {
   "cell_type": "markdown",
   "id": "a7d81583",
   "metadata": {},
   "source": [
    "## np.sum"
   ]
  },
  {
   "cell_type": "code",
   "execution_count": null,
   "id": "946a8236",
   "metadata": {},
   "outputs": [],
   "source": [
    "a=np.arange(0,24).reshape(2,3,4)\n",
    "#对所有元素求和\n",
    "b=np.sum(a) \n",
    "#对对应的维度求和 不保留当前维度\n",
    "c=np.sum(a,axis=0) #(2,3,4)->(3,4)\n",
    "c=np.sum(a,axis=1) #(2,3,4)->(2,4)\n",
    "c=np.sum(a,axis=2) #(2,3,4)->(2,3)\n",
    "\n",
    "#对对应的维度求和 保留当前维度为1\n",
    "d=np.sum(a,axis=0,keepdims=True) #(2,3,4)->(1,3,4)\n",
    "d=np.sum(a,axis=1,keepdims=True) #(2,3,4)->(2,1,4)\n",
    "d=np.sum(a,axis=2,keepdims=True) #(2,3,4)->(2,3,1)\n",
    "\n",
    "#对当前维度求和，即对当前维度中的元素arr[0],arr[1]```arr[n]进行求和\n",
    "#[0,1,2,3,4,5,6]\n",
    "\n",
    "#对最后一个维度求和 相当于对每行进行求和\n",
    "#d=np.sum(a,axis=2,keepdims=True) #(2,3,4)->(2,3,1)\n",
    "\n",
    "#对第一个维度求和 相当于对第一个维度中的[]所有元素进行对应加和\n",
    "#相当于 将[ [[]] , [[]] , [[]] ]中对应元素相加\n",
    "print('原数组')\n",
    "check(a)\n",
    "print()\n",
    "\n",
    "print('对一个维度加和后数组')\n",
    "c=np.sum(a,axis=0)\n",
    "check(c)\n",
    "\n",
    "\n"
   ]
  },
  {
   "cell_type": "markdown",
   "id": "01335ea1",
   "metadata": {},
   "source": [
    "## 暂未归类"
   ]
  },
  {
   "cell_type": "code",
   "execution_count": null,
   "id": "9ed50259",
   "metadata": {},
   "outputs": [],
   "source": []
  },
  {
   "cell_type": "code",
   "execution_count": 15,
   "id": "9ad78baf",
   "metadata": {},
   "outputs": [
    {
     "ename": "SyntaxError",
     "evalue": "invalid syntax (Temp/ipykernel_20276/449685071.py, line 4)",
     "output_type": "error",
     "traceback": [
      "\u001b[1;36m  File \u001b[1;32m\"C:\\Users\\reigo\\AppData\\Local\\Temp/ipykernel_20276/449685071.py\"\u001b[1;36m, line \u001b[1;32m4\u001b[0m\n\u001b[1;33m    np.random.\u001b[0m\n\u001b[1;37m              ^\u001b[0m\n\u001b[1;31mSyntaxError\u001b[0m\u001b[1;31m:\u001b[0m invalid syntax\n"
     ]
    }
   ],
   "source": [
    "\n",
    "\n",
    "np.exp(-inx)\n",
    "np.log10(255.0 / rmse)\n",
    "np.tanh(0.5 * inx)\n",
    "np.random.\n",
    "np.random.multivariate_normal(means0, [[variance, cov], [cov, variance]], number0)\n",
    "np.random.shuffle(data)\n",
    "np.random.randint(0, high=N)\n",
    "mus[i]=np.random.rand(K,aft_dim)\n",
    "\n",
    "\n",
    "np.sum()\n",
    "np.sqrt()\n",
    "acc=np.mean(correct_prediction)\n",
    "\n",
    "\n",
    "data_test_labels=np.squeeze(data_test_labels)\n",
    "correct_prediction = np.equal(classes,data_test_labels)\n",
    "\n",
    "\n",
    "np.select()\n",
    "\n",
    "\n",
    "all_data=np.c_[data_scale,label]\n",
    "data_classj=all_data[np.where(all_data[:,-1]==0)]\n",
    "#拿到类别为j的数据\n",
    "data_classj=all_data[np.where(all_data[:,-1]==j)]\n",
    "\n",
    "\n",
    "min_d = np.argsort(eigenvalues)#输出特征值从小到大的序号排序\n",
    "feature_vectors = np.delete(feature_vectors, min_d[:columns - reduced_dimension], axis=1)#删除特征值最小所对应特征向量的几列\n",
    "np.delete(data, -1, axis=1)\n",
    "\n",
    "\n",
    "np.linspace\n",
    "np.polyval\n",
    "np.linalg.norm(data[i,:] - center[j,:])\n",
    "\n",
    "\n",
    "\n",
    "arg = np.argmin(distance) # the index of the min of distance\n",
    "argmaxs = np.argmax(gammas, axis=1)\n",
    "max_arr=np.max(data,axis=0)\n",
    "min_arr=np.min(data,axis=0)\n",
    "\n",
    "\n",
    "\n",
    "np.uint8(img_data)\n",
    "\n",
    "data=pd.read_csv(\"Skin_NonSkin.txt\",sep='\\t',header=None)\n",
    "data=shuffle(data)\n",
    "data.iloc[:,[3]]=data.iloc[:,[3]].apply(lambda x:x-1)\n",
    "print(data.iloc[0:10])"
   ]
  },
  {
   "cell_type": "code",
   "execution_count": null,
   "id": "02f352ca",
   "metadata": {},
   "outputs": [],
   "source": []
  },
  {
   "cell_type": "code",
   "execution_count": null,
   "id": "27b949b3",
   "metadata": {},
   "outputs": [],
   "source": []
  },
  {
   "cell_type": "code",
   "execution_count": null,
   "id": "a6e51d8d",
   "metadata": {},
   "outputs": [],
   "source": [
    "a=np.ones((3,2))\n",
    "b=np.ones((2,1))\n",
    "m,n=a.shape\n",
    "print(m,n)\n",
    "print(a@b)"
   ]
  }
 ],
 "metadata": {
  "kernelspec": {
   "display_name": "Python 3 (ipykernel)",
   "language": "python",
   "name": "python3"
  },
  "language_info": {
   "codemirror_mode": {
    "name": "ipython",
    "version": 3
   },
   "file_extension": ".py",
   "mimetype": "text/x-python",
   "name": "python",
   "nbconvert_exporter": "python",
   "pygments_lexer": "ipython3",
   "version": "3.8.10"
  }
 },
 "nbformat": 4,
 "nbformat_minor": 5
}

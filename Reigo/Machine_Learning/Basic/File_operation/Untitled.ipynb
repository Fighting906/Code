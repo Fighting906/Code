{
 "cells": [
  {
   "cell_type": "markdown",
   "id": "f99e9c00",
   "metadata": {},
   "source": [
    "## 一行一行写入csv文件"
   ]
  },
  {
   "cell_type": "code",
   "execution_count": 5,
   "id": "bed758c6",
   "metadata": {},
   "outputs": [],
   "source": [
    "import csv\n",
    "header = ['name','age','QQ_num','wechat']\n",
    "\n",
    "data = [['suliang','21','787991021','lxzy787991021']]\n",
    "with open ('information.csv','w',encoding='utf-8',newline='') as fp:\n",
    "    \n",
    "    # 写\n",
    "    writer =csv.writer(fp)\n",
    "    # 设置第一行标题头\n",
    "    writer.writerow(header)\n",
    "    # 将数据写入\n",
    "    writer.writerows(data)\n"
   ]
  },
  {
   "cell_type": "code",
   "execution_count": null,
   "id": "f2b172c5",
   "metadata": {},
   "outputs": [],
   "source": []
  }
 ],
 "metadata": {
  "kernelspec": {
   "display_name": "Python 3 (ipykernel)",
   "language": "python",
   "name": "python3"
  },
  "language_info": {
   "codemirror_mode": {
    "name": "ipython",
    "version": 3
   },
   "file_extension": ".py",
   "mimetype": "text/x-python",
   "name": "python",
   "nbconvert_exporter": "python",
   "pygments_lexer": "ipython3",
   "version": "3.8.10"
  }
 },
 "nbformat": 4,
 "nbformat_minor": 5
}

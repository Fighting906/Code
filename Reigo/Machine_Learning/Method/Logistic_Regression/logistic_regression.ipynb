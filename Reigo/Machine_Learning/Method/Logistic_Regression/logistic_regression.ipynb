{
 "cells": [
  {
   "cell_type": "code",
   "execution_count": 74,
   "id": "195e134e",
   "metadata": {},
   "outputs": [],
   "source": [
    "import numpy as np\n",
    "from tqdm import tqdm\n",
    "import matplotlib.pyplot as plt\n",
    "#显示中文字符\n",
    "plt.rcParams['font.sans-serif']=['SimHei']\n",
    "plt.rcParams['axes.unicode_minus'] = False"
   ]
  },
  {
   "cell_type": "code",
   "execution_count": 75,
   "id": "5dbb71f1",
   "metadata": {},
   "outputs": [],
   "source": [
    "#查看阵列a1的属性\n",
    "def check(a1):\n",
    "    print(a1)  \n",
    "    print(\"数据类型\",type(a1))           #打印数组数据类型  \n",
    "    print(\"数组元素数据类型：\",a1.dtype) #打印数组元素数据类型  \n",
    "    print(\"数组元素总数：\",a1.size)      #打印数组尺寸，即数组元素总数  \n",
    "    print(\"数组形状：\",a1.shape)         #打印数组形状  \n",
    "    print(\"数组的维度数目\",a1.ndim)      #打印数组的维度数目\n",
    "    print()"
   ]
  },
  {
   "cell_type": "markdown",
   "id": "7a719026",
   "metadata": {},
   "source": [
    "## 逻辑回归"
   ]
  },
  {
   "cell_type": "code",
   "execution_count": 78,
   "id": "747bb37d",
   "metadata": {},
   "outputs": [],
   "source": [
    "# Logistic_Regression 逻辑回归\n",
    "# 线性模型 判别模型 计算P(Y|X)\n",
    "# 分类问题 （二分类）\n",
    "class Logistic_Regression:\n",
    "    def __init__(self,n=10):\n",
    "        #param:\n",
    "        # n 生成点的数量\n",
    "        self.n=n\n",
    "        self.dimension=2 #x的维度 (x1,x2···)\n",
    "        self.theta=np.arange(0,self.dimension+1).reshape(self.dimension+1,1) #shape(3,1)\n",
    "        self.x,self.X,self.y=self.generate_data(self.n,True)\n",
    "        \n",
    "        #check(self.x)\n",
    "    def train(self):\n",
    "        self.grad_ascent()\n",
    "        self.plot_result()\n",
    "        self.score()\n",
    "\n",
    "    def grad_ascent(self):\n",
    "        #function:\n",
    "        # 梯度下降法计算参数\n",
    "        __epoch__ = 10000 #回归轮数\n",
    "        \n",
    "        X=self.X #shape(n,3)\n",
    "        y=self.y #shape(n,1)\n",
    "        theta=self.theta #shape(1,3)\n",
    "        \n",
    "        n = X.shape[0]\n",
    "        alpha = 1\n",
    "\n",
    "        for  i in tqdm(range(__epoch__)):\n",
    "            error=self.sigmoid(X@theta)-y #error h(z)-y shape(n,1)\n",
    "            loss0=self.loss_function(theta,X,y)\n",
    "            theta=theta-alpha*X.T@error   #theta shape(3,1) theta(i+1)=theta(i)-(alpha/n)*加和1~n(h(z)-y)*x\n",
    "            loss1=self.loss_function(theta,X,y)\n",
    "    \n",
    "            if(loss1-loss0>0):\n",
    "                alpha*=0.5\n",
    "        \n",
    "        self.theta=theta\n",
    "        print('训练完成！参数为:')\n",
    "        check(self.theta)\n",
    "        \n",
    "\n",
    "    def grad_ascent_withPenalty(self,data_matrix, label_mat):\n",
    "        #该函数还未操作修改\n",
    "        \n",
    "        m, n = np.shape(data_matrix)\n",
    "        alpha = 1\n",
    "        lam=np.exp(-2)\n",
    "        weights = np.ones((n, 1))\n",
    "        for  p in range(max_cycles):\n",
    "            error=sigmoid(data_matrix@weights)-label_mat\n",
    "            loss0=loss_function(m,weights,data_matrix,label_mat)\n",
    "            weights=(1-alpha*lam/m)*weights-alpha*data_matrix.T@error\n",
    "            loss1=loss_function(m,weights,data_matrix,label_mat)\n",
    "            if(loss1-loss0>0):\n",
    "                alpha*=0.5\n",
    "        return weights\n",
    "    \n",
    "    \n",
    "    def generate_data(self,number,isNaive=True):\n",
    "        #function:\n",
    "        # 生成两组符合高斯分布的数据和不同标签\n",
    "        #Param:\n",
    "        # number:数据集中点的个数\n",
    "        # naive:选择生成的数据是否满足朴素贝叶斯假设\n",
    "        #Return:\n",
    "        # train_x x坐标 [[-1,2],[2,0].···] \n",
    "        # x_matrix X矩阵 在train_x的基础上 在最后一列加一列1\n",
    "        # train_y y标签 [1,0,1,1,1，···]\n",
    "\n",
    "        number=int(number)\n",
    "        # 类别为0的数据点数\n",
    "        number0 = number//2\n",
    "        means0 = [-0.6, 0.4]\n",
    "        # 类别为1的数据点数\n",
    "        number1 = number - number0\n",
    "        means1 = [0.6, -0.4]\n",
    "        # 随机变量方差与两个维度的协方差\n",
    "        variance = 0.2#0.2\n",
    "        cov = 0.5 #0.5\n",
    "        train_x = np.zeros((number, 2))\n",
    "        train_y = np.zeros((number, 1))\n",
    "\n",
    "        # 满足朴素贝叶斯假设(两个维度的协方差矩阵除对角线外均为0)\n",
    "        if isNaive:\n",
    "            train_x[:number0, :] = np.random.multivariate_normal(means0, [[variance, 0], [0, variance]], number0)\n",
    "            train_x[number0:, :] = np.random.multivariate_normal(means1, [[variance, 0], [0, variance]], number1)\n",
    "            train_y[:number0] = 0\n",
    "            train_y[number0:] = 1\n",
    "        # 不满足朴素贝叶斯假设(两个维度的协方差矩阵除对角线外为cov)\n",
    "        else:\n",
    "            train_x[:number0, :] = np.random.multivariate_normal(means0, [[variance, cov], [cov, variance]], number0)\n",
    "            train_x[number0:, :] = np.random.multivariate_normal(means1, [[variance, cov], [cov, variance]], number1)\n",
    "            train_y[:number0] = 0\n",
    "            train_y[number0:] = 1\n",
    "\n",
    "        # 生成数据矩阵\n",
    "        x_matrix = np.ones((number, 3))\n",
    "        x_matrix[:,0:2]=train_x\n",
    "        return train_x, x_matrix, train_y\n",
    "    \n",
    "    def sigmoid(self,x):\n",
    "        return 1.0 / (1 + np.exp(-x))\n",
    "\n",
    "    def loss_function(self,theta,X,y):\n",
    "        #function:\n",
    "        # 计算损失函数\n",
    "        #param: \n",
    "        # theta:(w,b)参数\n",
    "        # X: 数据集加一列1\n",
    "        # y: 标签\n",
    "        #return:\n",
    "        # Loss: 损失函数 一个值\n",
    "        \n",
    "        #L(w)=(-1/n)*求和1~n(y*ln(h(z)+(1-y)*ln(1-h(z)))\n",
    "        #z=w1x1+w2x2+···wkxk+b\n",
    "        #h(z)=sigmoid(z)\n",
    "        \n",
    "        n=X.shape[0] #数据量\n",
    "        z=X@theta #shape(n,1)\n",
    "        hz=self.sigmoid(z) #shape(n,1)\n",
    "        return (-1.0/n)*np.sum(np.multiply(y,np.log(hz+1e-5))+np.multiply((1-y),np.log(1-hz+1e-5)))\n",
    "    \n",
    "    def score(self):\n",
    "        #function:\n",
    "        # 在参数计算完成的情况下计算判别准确率\n",
    "        X=self.X\n",
    "        y=self.y\n",
    "        theta=self.theta\n",
    "        n=X.shape[0]\n",
    "        classify_matrix=X@theta\n",
    "        \n",
    "        classify_matrix=np.where(classify_matrix>0,1,0)\n",
    "        acc=np.mean(np.equal(classify_matrix,y))\n",
    "        print(\"准确率acc:\",acc)\n",
    "    \n",
    "    \n",
    "    def plot_point(self):\n",
    "        #function:\n",
    "        # 将数据集中的两种标签的点画出来\n",
    "        x=self.x\n",
    "        X=self.X\n",
    "        y=self.y\n",
    "        theta=self.theta\n",
    "        \n",
    "        n=self.x.shape[0]\n",
    "        \n",
    "        plt.plot(x[0:n//2,0], x[0:n//2,1], color='g', linestyle='', marker='o',markersize=2, label=u\"正例\")\n",
    "        plt.plot(x[n//2:n,0], x[n//2:n,1], color='r', linestyle='', marker='o',markersize=2, label=u\"反例\")\n",
    "        plt.legend(loc='upper left')\n",
    "        \n",
    "        \n",
    "    def plot_decision_surface(self):\n",
    "        #function:\n",
    "        # 将决策面按theta画出来 w1x1+w2x2+b=0\n",
    "        x=self.x\n",
    "        theta=self.theta\n",
    "        \n",
    "        x_slot=np.linspace(np.min(x[:,0]),np.max(x[:,0]))\n",
    "        y_slot=(-theta[0,0]*x_slot-theta[2,0])/theta[1,0]\n",
    "        #my_plot1 = np.polyval(-(theta/theta[2])[0:2][::-1],x_slot)\n",
    "        plt.plot(x_slot, y_slot, linestyle='-', marker='', label=\"degree:1 \" )\n",
    "    \n",
    "        \n",
    "    def plot_result(self):\n",
    "        #function:\n",
    "        # 将分类结果画图显示出来\n",
    "        plt.title(\"训练集 满足贝叶斯的分布 无正则项\")\n",
    "        self.plot_point()\n",
    "        self.plot_decision_surface()\n",
    "        fig=plt.figure()\n",
    "        plt.show()\n",
    "   \n"
   ]
  },
  {
   "cell_type": "code",
   "execution_count": 79,
   "id": "bced00ae",
   "metadata": {},
   "outputs": [
    {
     "name": "stderr",
     "output_type": "stream",
     "text": [
      "100%|██████████| 10000/10000 [00:00<00:00, 20708.18it/s]"
     ]
    },
    {
     "name": "stdout",
     "output_type": "stream",
     "text": [
      "训练完成！参数为:\n",
      "[[ 6.20427921]\n",
      " [-5.0044729 ]\n",
      " [ 1.16392972]]\n",
      "数据类型 <class 'numpy.ndarray'>\n",
      "数组元素数据类型： float64\n",
      "数组元素总数： 3\n",
      "数组形状： (3, 1)\n",
      "数组的维度数目 2\n",
      "\n"
     ]
    },
    {
     "name": "stderr",
     "output_type": "stream",
     "text": [
      "\n"
     ]
    },
    {
     "data": {
      "image/png": "[encoded data removed]",
      "text/plain": [
       "<Figure size 432x288 with 1 Axes>"
      ]
     },
     "metadata": {
      "needs_background": "light"
     },
     "output_type": "display_data"
    },
    {
     "data": {
      "text/plain": [
       "<Figure size 432x288 with 0 Axes>"
      ]
     },
     "metadata": {},
     "output_type": "display_data"
    },
    {
     "name": "stdout",
     "output_type": "stream",
     "text": [
      "准确率acc: 0.96\n"
     ]
    }
   ],
   "source": [
    "LR=Logistic_Regression(100)\n",
    "LR.train()"
   ]
  },
  {
   "cell_type": "code",
   "execution_count": null,
   "id": "04e2ecb2",
   "metadata": {},
   "outputs": [],
   "source": []
  },
  {
   "cell_type": "code",
   "execution_count": null,
   "id": "c0812dde",
   "metadata": {},
   "outputs": [],
   "source": []
  },
  {
   "cell_type": "code",
   "execution_count": 5,
   "id": "fffafb3f",
   "metadata": {},
   "outputs": [],
   "source": []
  }
 ],
 "metadata": {
  "kernelspec": {
   "display_name": "Python 3 (ipykernel)",
   "language": "python",
   "name": "python3"
  },
  "language_info": {
   "codemirror_mode": {
    "name": "ipython",
    "version": 3
   },
   "file_extension": ".py",
   "mimetype": "text/x-python",
   "name": "python",
   "nbconvert_exporter": "python",
   "pygments_lexer": "ipython3",
   "version": "3.8.10"
  }
 },
 "nbformat": 4,
 "nbformat_minor": 5
}

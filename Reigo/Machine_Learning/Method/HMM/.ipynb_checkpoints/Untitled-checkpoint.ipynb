{
 "cells": [
  {
   "cell_type": "code",
   "execution_count": 2,
   "id": "7f34a19c",
   "metadata": {},
   "outputs": [],
   "source": [
    "import numpy as np"
   ]
  },
  {
   "cell_type": "code",
   "execution_count": 37,
   "id": "65abe335",
   "metadata": {},
   "outputs": [],
   "source": [
    "#隐马尔可夫模型\n",
    "class HMM:\n",
    "    #param:\n",
    "    # status 状态集合\n",
    "    # observe 观测集合\n",
    "    # (A,B,PI) 状态转移矩阵 发射矩阵 初始状态矩阵\n",
    "    # o 观测序列\n",
    "    def __init__(self,status,observe,A=None,B=None,PI=None,o=None):\n",
    "        self.print=True\n",
    "        \n",
    "        #初始化 状态集合status 观测集合observe\n",
    "        self.status= status # 状态集合 N个 {盒子1，盒子2，盒子3}\n",
    "        self.observe=observe # 观测集合 M个 {红，白}\n",
    "        self.N = len(self.status)  # 状态集合有多少元素\n",
    "        self.M = len(observe)  # 观测集合有多少元素\n",
    "        \n",
    "        #数字化 状态集合Q 观测集合V \n",
    "        self.status_dict={} # {'盒子1':0，'盒子2':1，'盒子3':2}\n",
    "        self.observe_dict={}# {'红':0，'白':1}\n",
    "        for i in range(len(status)):\n",
    "            self.status_dict[status[i]]=i\n",
    "        for i in range(len(observe)):\n",
    "            self.observe_dict[observe[i]]=i\n",
    "        self.Q=np.arange(0,self.N) #状态集合 [0,1,2]\n",
    "        self.V=np.arange(0,self.M) #观测集合 [0,1]\n",
    "        \n",
    "        #初始化 (A,B,PI)\n",
    "        self.A=A # 状态转移矩阵\n",
    "        self.B=B # 发射矩阵\n",
    "        self.PI=PI # 初始状态概率\n",
    "        \n",
    "        #初始化 观测序列o\n",
    "        self.o=o #观测序列\n",
    "        self.T = len(self.o)  # 观测序列一共有多少值\n",
    "        \n",
    "        #数字化 观测序列O\n",
    "        self.O=np.array([self.observe_dict[x] for x in self.o])\n",
    "        \n",
    "        if self.print:\n",
    "            print('状态集合status',self.status_dict)\n",
    "            print('观测集合observe',self.observe_dict)\n",
    "            print('状态集合Q',self.Q)\n",
    "            print('观测集合V',self.V)\n",
    "            print('观测序列O',self.O)\n",
    "            print()\n",
    "        \n",
    "        #self.delte = [[0] * self.N] * self.T\n",
    "        #self.I = []  # 得到的状态序列是\n",
    "        #self.psi = [[0] * self.N] * self.T\n",
    "        #self.a=self.cal_a()\n",
    "        #self.b=self.cal_b()\n",
    "        #self.n=n\n",
    "    \n",
    "    #计算前向概率\n",
    "    def calc_foward(self,o):\n",
    "        O=self.O\n",
    "        A=self.A\n",
    "        B=self.B\n",
    "        \n",
    "        if self.print:\n",
    "            print('观测序列O',self.O)\n",
    "        \n",
    "        #初始化alpha\n",
    "        alpha=self.PI*(B.T[O[0]])\n",
    "        if self.print:\n",
    "            print('alpha0',alpha)\n",
    "        \n",
    "        for i in range(1,len(O)):\n",
    "            alpha=alpha@A*(B.T[O[i]])\n",
    "            if self.print:\n",
    "                print(f'alpha{i}',alpha)\n",
    "        ret=np.sum(alpha)\n",
    "        print('前向概率:',ret)\n",
    "        return ret\n",
    "        \n",
    "    #训练模型(A,B,PI)\n",
    "    def train(self):\n",
    "        self.A = [[1 / self.N] * self.N] * self.N # 状态转移矩阵\n",
    "        self.B = [[1/self.M]*self.M]* self.N #发射矩阵\n",
    "        self.PI = [1/self.N]*self.N  # 初始状态概率 N个状态 每个状态的概率是1/N\n",
    "        pass\n",
    "            "
   ]
  },
  {
   "cell_type": "code",
   "execution_count": 38,
   "id": "1abf5865",
   "metadata": {},
   "outputs": [
    {
     "name": "stdout",
     "output_type": "stream",
     "text": [
      "状态集合status {1: 0, 2: 1, 3: 2}\n",
      "观测集合observe {'red': 0, 'white': 1}\n",
      "状态集合Q [0 1 2]\n",
      "观测集合V [0 1]\n",
      "观测序列O [0 1 0]\n",
      "\n",
      "观测序列O [0 1 0]\n",
      "alpha0 [0.1  0.16 0.28]\n",
      "alpha1 [0.077  0.1104 0.0606]\n",
      "alpha2 [0.04187  0.035512 0.052836]\n",
      "前向概率: 0.130218\n",
      "0.130218\n"
     ]
    }
   ],
   "source": [
    "\n",
    "#使用测试样例\n",
    "def useTestCase():\n",
    "    status=[1,2,3]\n",
    "    observe=['red','white']\n",
    "    A=np.array([[0.5,0.2,0.3],[0.3,0.5,0.2],[0.2,0.3,0.5]])\n",
    "    B=np.array([[0.5,0.5],[0.4,0.6],[0.7,0.3]])\n",
    "    PI=np.array([0.2,0.4,0.4])\n",
    "    o=['red','white','red']\n",
    "    hmm=HMM(status,observe,A,B,PI,o)\n",
    "    hmm.calc_foward()\n",
    "useTestCase()\n"
   ]
  },
  {
   "cell_type": "code",
   "execution_count": 29,
   "id": "b286f466",
   "metadata": {},
   "outputs": [
    {
     "name": "stdout",
     "output_type": "stream",
     "text": [
      "[1. 1. 1.]\n",
      "数据类型 <class 'numpy.ndarray'>\n",
      "数组元素数据类型： float64\n",
      "数组元素总数： 3\n",
      "数组形状： (3,)\n",
      "数组的维度数目 1\n",
      "[[0 1 2]\n",
      " [3 4 5]\n",
      " [6 7 8]]\n",
      "数据类型 <class 'numpy.ndarray'>\n",
      "数组元素数据类型： int32\n",
      "数组元素总数： 9\n",
      "数组形状： (3, 3)\n",
      "数组的维度数目 2\n",
      "[ 9. 12. 15.]\n",
      "数据类型 <class 'numpy.ndarray'>\n",
      "数组元素数据类型： float64\n",
      "数组元素总数： 3\n",
      "数组形状： (3,)\n",
      "数组的维度数目 1\n"
     ]
    }
   ],
   "source": [
    "a=np.ones(3)\n",
    "b=np.arange(0,9).reshape(3,3)\n",
    "check(a)\n",
    "check(b)\n",
    "check(a@b)"
   ]
  },
  {
   "cell_type": "code",
   "execution_count": null,
   "id": "f6d2c736",
   "metadata": {},
   "outputs": [],
   "source": []
  },
  {
   "cell_type": "code",
   "execution_count": null,
   "id": "eddacf8f",
   "metadata": {},
   "outputs": [],
   "source": []
  },
  {
   "cell_type": "code",
   "execution_count": null,
   "id": "a1c9d26c",
   "metadata": {},
   "outputs": [],
   "source": []
  },
  {
   "cell_type": "code",
   "execution_count": null,
   "id": "96ddd0e5",
   "metadata": {},
   "outputs": [],
   "source": []
  },
  {
   "cell_type": "code",
   "execution_count": null,
   "id": "c7c769ef",
   "metadata": {},
   "outputs": [],
   "source": []
  },
  {
   "cell_type": "code",
   "execution_count": null,
   "id": "61f9864b",
   "metadata": {},
   "outputs": [],
   "source": []
  },
  {
   "cell_type": "code",
   "execution_count": 4,
   "id": "d48f718d",
   "metadata": {},
   "outputs": [],
   "source": [
    "#查看数组a1的属性\n",
    "def check(a1):\n",
    "    print(a1)  \n",
    "    print(\"数据类型\",type(a1))           #打印数组数据类型  \n",
    "    print(\"数组元素数据类型：\",a1.dtype) #打印数组元素数据类型  \n",
    "    print(\"数组元素总数：\",a1.size)      #打印数组尺寸，即数组元素总数  \n",
    "    print(\"数组形状：\",a1.shape)         #打印数组形状  \n",
    "    print(\"数组的维度数目\",a1.ndim)      #打印数组的维度数目"
   ]
  }
 ],
 "metadata": {
  "kernelspec": {
   "display_name": "Python 3 (ipykernel)",
   "language": "python",
   "name": "python3"
  },
  "language_info": {
   "codemirror_mode": {
    "name": "ipython",
    "version": 3
   },
   "file_extension": ".py",
   "mimetype": "text/x-python",
   "name": "python",
   "nbconvert_exporter": "python",
   "pygments_lexer": "ipython3",
   "version": "3.8.10"
  }
 },
 "nbformat": 4,
 "nbformat_minor": 5
}

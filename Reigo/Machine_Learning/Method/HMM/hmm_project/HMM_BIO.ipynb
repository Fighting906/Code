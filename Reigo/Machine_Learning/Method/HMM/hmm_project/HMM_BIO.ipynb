{
 "cells": [
  {
   "cell_type": "code",
   "execution_count": 1,
   "id": "8881ac6e",
   "metadata": {},
   "outputs": [],
   "source": [
    "import numpy as np\n",
    "from tqdm import tqdm\n",
    "import csv"
   ]
  },
  {
   "cell_type": "code",
   "execution_count": 102,
   "id": "046fde7d",
   "metadata": {},
   "outputs": [],
   "source": [
    "#隐马尔可夫模型\n",
    "class HMM_BIO:\n",
    "    #param:\n",
    "    # status 状态集合\n",
    "    # observe 观测集合\n",
    "    # (A,B,PI) 状态转移矩阵 发射矩阵 初始状态矩阵\n",
    "    def __init__(self,A=None,B=None,PI=None):\n",
    "        self.print=True\n",
    "        \n",
    "        \n",
    "        self.N = 7     # 状态集合有多少元素(状态数BIO)\n",
    "        self.M = 65535 # 观测集合有多少元素(汉字)\n",
    "        \n",
    "        #数字化 状态集合Q 观测集合V \n",
    "        self.status_dict={'B-PER': 0, # {'盒子1':0，'盒子2':1，'盒子3':2}\n",
    "                        'I-PER': 1,\n",
    "                        'B-LOC': 2,\n",
    "                        'I-LOC': 3,\n",
    "                        'B-ORG': 4,\n",
    "                        'I-ORG': 5,\n",
    "                        'O': 6}\n",
    "        self.status=list(self.status_dict.keys())          \n",
    "        #self.observe_dict={}# {'红':0，'白':1}\n",
    "        self.Q=np.arange(0,self.N) #状态集合 [0,1,2]\n",
    "        self.V=np.arange(0,self.M) #观测集合 [0,1]\n",
    "        \n",
    "        #初始化 (A,B,PI)\n",
    "        self.A=A # 状态转移矩阵\n",
    "        self.B=B # 发射矩阵\n",
    "        self.PI=PI # 初始状态概率\n",
    "        \n",
    "        \n",
    "        if self.print:\n",
    "            print('状态集合status',self.status_dict)\n",
    "            #print('观测集合observe',self.observe_dict)\n",
    "            print('状态集合Q',self.Q)\n",
    "            print('观测集合V',self.V)\n",
    "            print()\n",
    "        \n",
    "    \n",
    "    #计算前向概率\n",
    "    #param\n",
    "    # o 观测序列\n",
    "    def calc_foward(self,o):\n",
    "        print('calc_foward')\n",
    "        #数字化 观测序列O\n",
    "        O=np.array([self.observe_dict[x] for x in o])\n",
    "        \n",
    "        A=self.A\n",
    "        B=self.B\n",
    "        \n",
    "        if self.print:\n",
    "            print('观测序列O',O)\n",
    "        \n",
    "        #初始化alpha\n",
    "        alpha=self.PI*(B.T[O[0]])\n",
    "        if self.print:\n",
    "            print('alpha0',alpha)\n",
    "            \n",
    "        #循环计算alpha\n",
    "        for i in range(1,len(O)):\n",
    "            alpha=alpha@A*(B.T[O[i]])\n",
    "            if self.print:\n",
    "                print(f'alpha{i}',alpha)\n",
    "        ret=np.sum(alpha)\n",
    "        print(f'前向概率:{ret}\\n')\n",
    "        return ret\n",
    "    \n",
    "    #计算后向概率\n",
    "    def calc_backward(self,o):\n",
    "        print('calc_backward')\n",
    "        #数字化 观测序列O\n",
    "        O=np.array([self.observe_dict[x] for x in o])\n",
    "        \n",
    "        A=self.A\n",
    "        B=self.B\n",
    "        \n",
    "        if self.print:\n",
    "            print('观测序列O',O)\n",
    "        \n",
    "        #初始化beta\n",
    "        beta=np.ones(self.N)\n",
    "        \n",
    "        #循环计算beta\n",
    "        for i in range(len(O)-1,0,-1):\n",
    "            beta=A@(beta*(B.T[O[i]]))\n",
    "            if self.print:\n",
    "                print(f'beta{i}',beta)\n",
    "        \n",
    "        beta=self.PI*(beta*(B.T[O[0]]))\n",
    "        if self.print:\n",
    "            print('beta0',beta)\n",
    "            \n",
    "        ret=np.sum(beta)\n",
    "        print(f'后向概率:{ret}\\n')\n",
    "        return ret\n",
    "    \n",
    "    #训练模型(A,B,PI)\n",
    "    #data (2,N)\n",
    "    def train_bio(self,data):\n",
    "        self.calc_Param_bio(data)\n",
    "    \n",
    "    #利用数据data(状态序列+观测序列) 计算参数(A,B,PI) 直接使用统计方法 统计A,B,PI\n",
    "    #param\n",
    "    # data: (2,n)\n",
    "    def calc_Param_bio(self,data):\n",
    "        check(data)\n",
    "        A=np.zeros((self.N,self.N)) #(N,N)\n",
    "        B=np.zeros((self.N,self.M)) #(N,M)\n",
    "        PI=np.zeros(self.N) #(N,)\n",
    "        \n",
    "        #d (2,n)状态和观测序列\n",
    "        #row0 状态序列\n",
    "        #row1 观测序列\n",
    "        d=data\n",
    "        n=d.shape[1]\n",
    "\n",
    "        PI[d[0,0]]+=1\n",
    "        B[d[0,0],d[1,0]]+=1\n",
    "\n",
    "        for j in tqdm(range(1,n)):\n",
    "            #当前为分隔符\n",
    "            if d[0,j]==-1:\n",
    "                continue\n",
    "            if d[0,j-1]!=-1:\n",
    "                #d[0,i] 当前状态\n",
    "                #d[0,i-1] 上一次状态\n",
    "                #[1,i] 当前观测\n",
    "\n",
    "                A[d[0,j-1],d[0,j]]+=1\n",
    "                B[d[0,j],d[1,j]]+=1\n",
    "            #上一个为分隔符\n",
    "            else:\n",
    "                PI[d[0,j]]+=1\n",
    "                B[d[0,j],d[1,j]]+=1\n",
    "        \n",
    "        self.A=A\n",
    "        self.B=B\n",
    "        self.PI=PI\n",
    "        \n",
    "        self.normalize_param()\n",
    "        print('训练参数结果(A,B,PI)')\n",
    "        print(f'A:{self.A}')\n",
    "        print(f'B:{self.B}')\n",
    "        print(f'PI:{self.PI}')\n",
    "        \n",
    "    #将(A,B,PI)归一化\n",
    "    def normalize_param(self):\n",
    "        self.A=self.A/np.sum(self.A,axis=1,keepdims=True)\n",
    "        self.B=self.B/np.sum(self.B,axis=1,keepdims=True)\n",
    "        self.PI=self.PI/np.sum(self.PI)\n",
    "\n",
    "    \n",
    "    \n",
    "    #维特比算法(动态规划)\n",
    "    #已知(A,B,PI) 和一观测序列o 求解其状态序列的概率最大解\n",
    "    #param:\n",
    "    # o 观测序列 [0,1,1,1,1,0] shape(n,)\n",
    "    #return:\n",
    "    # [1,2,0,0,0] 一段状态序列\n",
    "    def viterbi_t(self,o):\n",
    "        n=o.shape[0]\n",
    "        dp=np.zeros((self.N,n)) #shape(状态个数,序列长度)\n",
    "        A=self.A\n",
    "        B=self.B\n",
    "        PI=self.PI\n",
    "        \n",
    "        dp[:,0]=PI*B[:,o[0]]\n",
    "        for i in range(1,n):\n",
    "            dp[:,i]=np.max(dp[:,i-1]*A.T,axis=1)*B[:,o[i]]\n",
    "        #check(dp)\n",
    "        return np.argmax(dp,axis=0)\n",
    "    \n",
    "    #计算a,b阵列的准确率\n",
    "    #param:\n",
    "    # a 源标签\n",
    "    # b 目的标签\n",
    "    def calc_acc(self,label,predict):\n",
    "        return np.mean(np.equal(label,predict))\n",
    "    \n",
    "    #在已有的参数(A,B,PI)下随机生成一组长度为n的 状态和观测序列\n",
    "    #return:\n",
    "    # np.ndarray[] shape=(2,n)\n",
    "    # row0 状态序列\n",
    "    # row1 观测序列\n",
    "    def generate_Sequence(self,n):\n",
    "        PI=self.PI\n",
    "        A=self.A\n",
    "        B=self.B\n",
    "        \n",
    "        ret=np.zeros((2,n),dtype=np.int32)\n",
    "        \n",
    "        #从状态集中以概率P随机选择一个状态\n",
    "        ret[0,0]=np.random.choice(self.Q,p=PI)\n",
    "        #从该状态生成一个观测值\n",
    "        ret[1,0]=np.random.choice(self.V,p=B[ret[0,0]])\n",
    "        \n",
    "        \n",
    "        for i in range(1,n):\n",
    "            ret[0,i]=np.random.choice(self.Q,p=A[ret[0,i-1]])\n",
    "            ret[1,i]=np.random.choice(self.V,p=B[ret[0,i]])\n",
    "        return ret\n",
    "    \n",
    "    #生成 N组序列 序列中状态长度为n shape=(N,2,n)\n",
    "    def generate_Data(self,N,n):\n",
    "        ret=np.array([])\n",
    "        for i in range(N):\n",
    "            a=self.generate_Sequence(n)\n",
    "            a=a.reshape(1,a.shape[0],a.shape[1])\n",
    "            if i==0:\n",
    "                ret=a\n",
    "            else:\n",
    "                ret=np.r_[ret,a]\n",
    "        return ret\n",
    "    \n",
    "    \n",
    "    #数字化观测序列o 将['red','white','red']转换为[0,1,0]\n",
    "    def observe_transform(self,o):\n",
    "        return np.array([self.observe_dict[x] for x in o])\n",
    "    \n",
    "    #预测一段话的状态序列\n",
    "    #param\n",
    "    # s 一段中文\n",
    "    #return\n",
    "    # 中文加状态的文字 林B-LOC_|徽I-LOC_|因_O_|\n",
    "    def predict(self,s:str):\n",
    "        ans=\"\"\n",
    "        s=list(s)\n",
    "        o=np.array([ord(ch) for ch in s])\n",
    "        print(o)\n",
    "        statusList=self.viterbi_t(o)\n",
    "        for i in range(len(s)):\n",
    "            ans+=s[i]+str(self.status[statusList[i]])+'_|'\n",
    "        #print(statusList)\n",
    "        return ans\n",
    "        "
   ]
  },
  {
   "cell_type": "code",
   "execution_count": 47,
   "id": "62b71433",
   "metadata": {},
   "outputs": [],
   "source": [
    "def train_BIO(hmm):\n",
    "    file_path='corpus/BIO_train.txt'\n",
    "    with open(file_path,mode='r',encoding='utf-8') as fr:\n",
    "        lines=fr.readlines()\n",
    "    for i in range(len(lines)):\n",
    "        if len(lines[i])==1:\n",
    "            continue\n",
    "        else:\n",
    "            ch,tag=lines.split('\\t')\n",
    "            \n",
    "def data_pretreatment(hmm:HMM_BIO):\n",
    "    file_path='corpus/BIO_train.txt'\n",
    "    with open(file_path,mode='r',encoding='utf-8') as fr:\n",
    "        lines=fr.readlines()\n",
    "    with open('corpus/BIO_train_pretreatment.csv',mode='w',encoding='utf-8',newline='') as fw:\n",
    "        writer=csv.writer(fw)\n",
    "        for i in tqdm(range(len(lines))):\n",
    "            #判断是否是换行\\n\n",
    "            if len(lines[i])==1:\n",
    "                writer.writerow([-1,-1])\n",
    "            else:\n",
    "                ch,tag=lines[i].split()\n",
    "                writer.writerow([hmm.status_dict[tag],ord(ch)])\n",
    "                #new_row=np.array([[hmm.status_dict[tag],ord(ch)]])     "
   ]
  },
  {
   "cell_type": "code",
   "execution_count": null,
   "id": "57fa0e2d",
   "metadata": {},
   "outputs": [],
   "source": []
  },
  {
   "cell_type": "code",
   "execution_count": 98,
   "id": "eb1e983e",
   "metadata": {},
   "outputs": [
    {
     "name": "stdout",
     "output_type": "stream",
     "text": [
      "状态集合status {'B-PER': 0, 'I-PER': 1, 'B-LOC': 2, 'I-LOC': 3, 'B-ORG': 4, 'I-ORG': 5, 'O': 6}\n",
      "状态集合Q [0 1 2 3 4 5 6]\n",
      "观测集合V [    0     1     2 ... 65532 65533 65534]\n",
      "\n",
      "[22025 28982 20170 22825 21507 20160 20040]\n"
     ]
    },
    {
     "ename": "TypeError",
     "evalue": "'NoneType' object is not subscriptable",
     "output_type": "error",
     "traceback": [
      "\u001b[1;31m---------------------------------------------------------------------------\u001b[0m",
      "\u001b[1;31mTypeError\u001b[0m                                 Traceback (most recent call last)",
      "\u001b[1;32m~\\AppData\\Local\\Temp/ipykernel_13756/129381139.py\u001b[0m in \u001b[0;36m<module>\u001b[1;34m\u001b[0m\n\u001b[0;32m      1\u001b[0m \u001b[1;31m#Test predict\u001b[0m\u001b[1;33m\u001b[0m\u001b[1;33m\u001b[0m\u001b[1;33m\u001b[0m\u001b[0m\n\u001b[0;32m      2\u001b[0m \u001b[0mhmm_bio1\u001b[0m\u001b[1;33m=\u001b[0m\u001b[0mHMM_BIO\u001b[0m\u001b[1;33m(\u001b[0m\u001b[1;33m)\u001b[0m\u001b[1;33m\u001b[0m\u001b[1;33m\u001b[0m\u001b[0m\n\u001b[1;32m----> 3\u001b[1;33m \u001b[0mhmm_bio1\u001b[0m\u001b[1;33m.\u001b[0m\u001b[0mpredict\u001b[0m\u001b[1;33m(\u001b[0m\u001b[1;34m'嘉然今天吃什么'\u001b[0m\u001b[1;33m)\u001b[0m\u001b[1;33m\u001b[0m\u001b[1;33m\u001b[0m\u001b[0m\n\u001b[0m",
      "\u001b[1;32m~\\AppData\\Local\\Temp/ipykernel_13756/1356143586.py\u001b[0m in \u001b[0;36mpredict\u001b[1;34m(self, s)\u001b[0m\n\u001b[0;32m    229\u001b[0m         \u001b[0mo\u001b[0m\u001b[1;33m=\u001b[0m\u001b[0mnp\u001b[0m\u001b[1;33m.\u001b[0m\u001b[0marray\u001b[0m\u001b[1;33m(\u001b[0m\u001b[1;33m[\u001b[0m\u001b[0mord\u001b[0m\u001b[1;33m(\u001b[0m\u001b[0mch\u001b[0m\u001b[1;33m)\u001b[0m \u001b[1;32mfor\u001b[0m \u001b[0mch\u001b[0m \u001b[1;32min\u001b[0m \u001b[0ms\u001b[0m\u001b[1;33m]\u001b[0m\u001b[1;33m)\u001b[0m\u001b[1;33m\u001b[0m\u001b[1;33m\u001b[0m\u001b[0m\n\u001b[0;32m    230\u001b[0m         \u001b[0mprint\u001b[0m\u001b[1;33m(\u001b[0m\u001b[0mo\u001b[0m\u001b[1;33m)\u001b[0m\u001b[1;33m\u001b[0m\u001b[1;33m\u001b[0m\u001b[0m\n\u001b[1;32m--> 231\u001b[1;33m         \u001b[0mstatusList\u001b[0m\u001b[1;33m=\u001b[0m\u001b[0mself\u001b[0m\u001b[1;33m.\u001b[0m\u001b[0mviterbi_t\u001b[0m\u001b[1;33m(\u001b[0m\u001b[0mo\u001b[0m\u001b[1;33m)\u001b[0m\u001b[1;33m\u001b[0m\u001b[1;33m\u001b[0m\u001b[0m\n\u001b[0m\u001b[0;32m    232\u001b[0m         \u001b[1;32mfor\u001b[0m \u001b[0mi\u001b[0m \u001b[1;32min\u001b[0m \u001b[0mrange\u001b[0m\u001b[1;33m(\u001b[0m\u001b[0mlen\u001b[0m\u001b[1;33m(\u001b[0m\u001b[0ms\u001b[0m\u001b[1;33m)\u001b[0m\u001b[1;33m)\u001b[0m\u001b[1;33m:\u001b[0m\u001b[1;33m\u001b[0m\u001b[1;33m\u001b[0m\u001b[0m\n\u001b[0;32m    233\u001b[0m             \u001b[0mans\u001b[0m\u001b[1;33m+=\u001b[0m\u001b[0ms\u001b[0m\u001b[1;33m[\u001b[0m\u001b[0mi\u001b[0m\u001b[1;33m]\u001b[0m\u001b[1;33m+\u001b[0m\u001b[0mstatusList\u001b[0m\u001b[1;33m[\u001b[0m\u001b[0mi\u001b[0m\u001b[1;33m]\u001b[0m\u001b[1;33m+\u001b[0m\u001b[1;34m'_|'\u001b[0m\u001b[1;33m\u001b[0m\u001b[1;33m\u001b[0m\u001b[0m\n",
      "\u001b[1;32m~\\AppData\\Local\\Temp/ipykernel_13756/1356143586.py\u001b[0m in \u001b[0;36mviterbi_t\u001b[1;34m(self, o)\u001b[0m\n\u001b[0;32m    166\u001b[0m         \u001b[0mPI\u001b[0m\u001b[1;33m=\u001b[0m\u001b[0mself\u001b[0m\u001b[1;33m.\u001b[0m\u001b[0mPI\u001b[0m\u001b[1;33m\u001b[0m\u001b[1;33m\u001b[0m\u001b[0m\n\u001b[0;32m    167\u001b[0m \u001b[1;33m\u001b[0m\u001b[0m\n\u001b[1;32m--> 168\u001b[1;33m         \u001b[0mdp\u001b[0m\u001b[1;33m[\u001b[0m\u001b[1;33m:\u001b[0m\u001b[1;33m,\u001b[0m\u001b[1;36m0\u001b[0m\u001b[1;33m]\u001b[0m\u001b[1;33m=\u001b[0m\u001b[0mPI\u001b[0m\u001b[1;33m*\u001b[0m\u001b[0mB\u001b[0m\u001b[1;33m[\u001b[0m\u001b[1;33m:\u001b[0m\u001b[1;33m,\u001b[0m\u001b[0mo\u001b[0m\u001b[1;33m[\u001b[0m\u001b[1;36m0\u001b[0m\u001b[1;33m]\u001b[0m\u001b[1;33m]\u001b[0m\u001b[1;33m\u001b[0m\u001b[1;33m\u001b[0m\u001b[0m\n\u001b[0m\u001b[0;32m    169\u001b[0m         \u001b[1;32mfor\u001b[0m \u001b[0mi\u001b[0m \u001b[1;32min\u001b[0m \u001b[0mrange\u001b[0m\u001b[1;33m(\u001b[0m\u001b[1;36m1\u001b[0m\u001b[1;33m,\u001b[0m\u001b[0mn\u001b[0m\u001b[1;33m)\u001b[0m\u001b[1;33m:\u001b[0m\u001b[1;33m\u001b[0m\u001b[1;33m\u001b[0m\u001b[0m\n\u001b[0;32m    170\u001b[0m             \u001b[0mdp\u001b[0m\u001b[1;33m[\u001b[0m\u001b[1;33m:\u001b[0m\u001b[1;33m,\u001b[0m\u001b[0mi\u001b[0m\u001b[1;33m]\u001b[0m\u001b[1;33m=\u001b[0m\u001b[0mnp\u001b[0m\u001b[1;33m.\u001b[0m\u001b[0mmax\u001b[0m\u001b[1;33m(\u001b[0m\u001b[0mdp\u001b[0m\u001b[1;33m[\u001b[0m\u001b[1;33m:\u001b[0m\u001b[1;33m,\u001b[0m\u001b[0mi\u001b[0m\u001b[1;33m-\u001b[0m\u001b[1;36m1\u001b[0m\u001b[1;33m]\u001b[0m\u001b[1;33m*\u001b[0m\u001b[0mA\u001b[0m\u001b[1;33m.\u001b[0m\u001b[0mT\u001b[0m\u001b[1;33m,\u001b[0m\u001b[0maxis\u001b[0m\u001b[1;33m=\u001b[0m\u001b[1;36m1\u001b[0m\u001b[1;33m)\u001b[0m\u001b[1;33m*\u001b[0m\u001b[0mB\u001b[0m\u001b[1;33m[\u001b[0m\u001b[1;33m:\u001b[0m\u001b[1;33m,\u001b[0m\u001b[0mo\u001b[0m\u001b[1;33m[\u001b[0m\u001b[0mi\u001b[0m\u001b[1;33m]\u001b[0m\u001b[1;33m]\u001b[0m\u001b[1;33m\u001b[0m\u001b[1;33m\u001b[0m\u001b[0m\n",
      "\u001b[1;31mTypeError\u001b[0m: 'NoneType' object is not subscriptable"
     ]
    }
   ],
   "source": [
    "#Test predict\n",
    "hmm_bio1=HMM_BIO()\n",
    "hmm_bio1.predict('嘉然今天吃什么')\n"
   ]
  },
  {
   "cell_type": "code",
   "execution_count": null,
   "id": "71b3d1e2",
   "metadata": {},
   "outputs": [],
   "source": []
  },
  {
   "cell_type": "code",
   "execution_count": null,
   "id": "5de1057d",
   "metadata": {},
   "outputs": [],
   "source": []
  },
  {
   "cell_type": "code",
   "execution_count": null,
   "id": "f77c0ac2",
   "metadata": {},
   "outputs": [],
   "source": []
  },
  {
   "cell_type": "code",
   "execution_count": null,
   "id": "6b6f42c6",
   "metadata": {},
   "outputs": [],
   "source": []
  },
  {
   "cell_type": "code",
   "execution_count": 103,
   "id": "e9c34c2e",
   "metadata": {},
   "outputs": [
    {
     "name": "stdout",
     "output_type": "stream",
     "text": [
      "状态集合status {'B-PER': 0, 'I-PER': 1, 'B-LOC': 2, 'I-LOC': 3, 'B-ORG': 4, 'I-ORG': 5, 'O': 6}\n",
      "状态集合Q [0 1 2 3 4 5 6]\n",
      "观测集合V [    0     1     2 ... 65532 65533 65534]\n",
      "\n"
     ]
    }
   ],
   "source": [
    "hmm_bio=HMM_BIO()"
   ]
  },
  {
   "cell_type": "code",
   "execution_count": 62,
   "id": "895f4400",
   "metadata": {},
   "outputs": [
    {
     "name": "stderr",
     "output_type": "stream",
     "text": [
      "100%|██████████| 2220537/2220537 [00:02<00:00, 1043495.94it/s]\n"
     ]
    }
   ],
   "source": [
    "#将文本数据预处理 写进csv文件\n",
    "data_pretreatment(hmm_bio)"
   ]
  },
  {
   "cell_type": "code",
   "execution_count": 63,
   "id": "bf1e6d48",
   "metadata": {},
   "outputs": [
    {
     "name": "stdout",
     "output_type": "stream",
     "text": [
      "[[    6 24403]\n",
      " [    6 24076]\n",
      " [    6 26395]\n",
      " ...\n",
      " [    6 19978]\n",
      " [    6 12290]\n",
      " [   -1    -1]]\n",
      "数据类型 <class 'numpy.ndarray'>\n",
      "数组元素数据类型： int32\n",
      "数组元素总数： 4441074\n",
      "数组形状： (2220537, 2)\n",
      "数组的维度数目 2\n"
     ]
    }
   ],
   "source": [
    "#将csv文件中数据读出为np数据\n",
    "data=np.genfromtxt('corpus/BIO_train_pretreatment.csv',delimiter=',',dtype=np.int32)\n",
    "check(data)\n",
    "data=data.T"
   ]
  },
  {
   "cell_type": "code",
   "execution_count": 64,
   "id": "38d313e6",
   "metadata": {},
   "outputs": [],
   "source": []
  },
  {
   "cell_type": "markdown",
   "id": "16559ef3",
   "metadata": {},
   "source": [
    "## 运行下面"
   ]
  },
  {
   "cell_type": "code",
   "execution_count": 104,
   "id": "209f0062",
   "metadata": {},
   "outputs": [
    {
     "name": "stdout",
     "output_type": "stream",
     "text": [
      "[[    6     6     6 ...     6     6    -1]\n",
      " [24403 24076 26395 ... 19978 12290    -1]]\n",
      "数据类型 <class 'numpy.ndarray'>\n",
      "数组元素数据类型： int32\n",
      "数组元素总数： 4441074\n",
      "数组形状： (2, 2220537)\n",
      "数组的维度数目 2\n"
     ]
    },
    {
     "name": "stderr",
     "output_type": "stream",
     "text": [
      "100%|██████████| 2220536/2220536 [00:05<00:00, 401999.77it/s]"
     ]
    },
    {
     "name": "stdout",
     "output_type": "stream",
     "text": [
      "训练参数结果(A,B,PI)\n",
      "A:[[4.03134227e-03 9.45378151e-01 0.00000000e+00 0.00000000e+00\n",
      "  0.00000000e+00 0.00000000e+00 5.05905065e-02]\n",
      " [4.37553226e-03 5.13023816e-01 8.80979649e-05 0.00000000e+00\n",
      "  4.99221801e-04 0.00000000e+00 4.82013332e-01]\n",
      " [0.00000000e+00 0.00000000e+00 4.34615911e-02 8.35820896e-01\n",
      "  3.01246063e-04 0.00000000e+00 1.20416267e-01]\n",
      " [1.29565147e-03 0.00000000e+00 3.08324561e-02 3.82176694e-01\n",
      "  1.27540692e-03 0.00000000e+00 5.84419791e-01]\n",
      " [0.00000000e+00 0.00000000e+00 0.00000000e+00 0.00000000e+00\n",
      "  8.26486460e-04 9.95575867e-01 3.59764694e-03]\n",
      " [1.29236071e-03 0.00000000e+00 4.39163316e-03 0.00000000e+00\n",
      "  3.47022784e-04 7.55121578e-01 2.38847406e-01]\n",
      " [7.62659866e-03 0.00000000e+00 1.60233671e-02 0.00000000e+00\n",
      "  9.00129320e-03 0.00000000e+00 9.67348741e-01]]\n",
      "B:[[0. 0. 0. ... 0. 0. 0.]\n",
      " [0. 0. 0. ... 0. 0. 0.]\n",
      " [0. 0. 0. ... 0. 0. 0.]\n",
      " ...\n",
      " [0. 0. 0. ... 0. 0. 0.]\n",
      " [0. 0. 0. ... 0. 0. 0.]\n",
      " [0. 0. 0. ... 0. 0. 0.]]\n",
      "PI:[5.73255952e-02 5.92206562e-05 5.82928659e-02 0.00000000e+00\n",
      " 6.97619330e-02 5.92206562e-05 8.14501165e-01]\n"
     ]
    },
    {
     "name": "stderr",
     "output_type": "stream",
     "text": [
      "\n"
     ]
    }
   ],
   "source": [
    "hmm_bio.train_bio(data)"
   ]
  },
  {
   "cell_type": "code",
   "execution_count": 124,
   "id": "26138ad2",
   "metadata": {},
   "outputs": [
    {
     "name": "stdout",
     "output_type": "stream",
     "text": [
      "[21040 21704 23572 28392 20102]\n",
      "到O_|哈B-LOC_|尔I-PER_|滨I-LOC_|了O_|\n",
      "[26519 24509 22240 20160 20040 29702 30001 25298 32477 20102 24464 24535\n",
      " 25705 32780 36873 25321 26753 24605 25104 20026 32456 36523 20276 20387\n",
      " 65311 35874 23068 20026 26446 28009 33778 28548 28165 32593 32476 35875\n",
      " 35328 65292 20043 21518 22905 30340 20004 20010 34892 20026 32473 33258\n",
      " 24049 21152 20998]\n",
      "林B-PER_|徽I-PER_|因O_|什O_|么O_|理O_|由O_|拒O_|绝O_|了O_|徐B-PER_|志I-PER_|摩I-PER_|而O_|选O_|择O_|梁B-PER_|思I-PER_|成O_|为O_|终O_|身O_|伴O_|侣O_|？O_|谢O_|娜I-PER_|为O_|李B-PER_|浩I-PER_|菲I-PER_|澄I-PER_|清I-PER_|网O_|络O_|谣O_|言O_|，O_|之O_|后O_|她O_|的O_|两O_|个O_|行O_|为O_|给O_|自O_|己O_|加O_|分O_|\n"
     ]
    }
   ],
   "source": [
    "s = '林徽因什么理由拒绝了徐志摩而选择梁思成为终身伴侣？' \\\n",
    "        '谢娜为李浩菲澄清网络谣言，之后她的两个行为给自己加分'\n",
    "s1='到哈尔滨了'\n",
    "print(hmm_bio.predict(s1))\n",
    "print(hmm_bio.predict(s))"
   ]
  },
  {
   "cell_type": "code",
   "execution_count": null,
   "id": "e57d7274",
   "metadata": {},
   "outputs": [],
   "source": []
  },
  {
   "cell_type": "code",
   "execution_count": null,
   "id": "a8155a52",
   "metadata": {},
   "outputs": [],
   "source": []
  },
  {
   "cell_type": "code",
   "execution_count": 6,
   "id": "43c4ddac",
   "metadata": {},
   "outputs": [],
   "source": [
    "#查看数组a1的属性\n",
    "def check(a1):\n",
    "    print(a1)  \n",
    "    print(\"数据类型\",type(a1))           #打印数组数据类型  \n",
    "    print(\"数组元素数据类型：\",a1.dtype) #打印数组元素数据类型  \n",
    "    print(\"数组元素总数：\",a1.size)      #打印数组尺寸，即数组元素总数  \n",
    "    print(\"数组形状：\",a1.shape)         #打印数组形状  \n",
    "    print(\"数组的维度数目\",a1.ndim)      #打印数组的维度数目"
   ]
  },
  {
   "cell_type": "code",
   "execution_count": null,
   "id": "c57f8362",
   "metadata": {},
   "outputs": [],
   "source": []
  },
  {
   "cell_type": "code",
   "execution_count": null,
   "id": "85eb95e5",
   "metadata": {},
   "outputs": [],
   "source": []
  },
  {
   "cell_type": "code",
   "execution_count": 125,
   "id": "fa88546d",
   "metadata": {},
   "outputs": [
    {
     "name": "stdout",
     "output_type": "stream",
     "text": [
      "[[4.03134227e-03 9.45378151e-01 0.00000000e+00 0.00000000e+00\n",
      "  0.00000000e+00 0.00000000e+00 5.05905065e-02]\n",
      " [4.37553226e-03 5.13023816e-01 8.80979649e-05 0.00000000e+00\n",
      "  4.99221801e-04 0.00000000e+00 4.82013332e-01]\n",
      " [0.00000000e+00 0.00000000e+00 4.34615911e-02 8.35820896e-01\n",
      "  3.01246063e-04 0.00000000e+00 1.20416267e-01]\n",
      " [1.29565147e-03 0.00000000e+00 3.08324561e-02 3.82176694e-01\n",
      "  1.27540692e-03 0.00000000e+00 5.84419791e-01]\n",
      " [0.00000000e+00 0.00000000e+00 0.00000000e+00 0.00000000e+00\n",
      "  8.26486460e-04 9.95575867e-01 3.59764694e-03]\n",
      " [1.29236071e-03 0.00000000e+00 4.39163316e-03 0.00000000e+00\n",
      "  3.47022784e-04 7.55121578e-01 2.38847406e-01]\n",
      " [7.62659866e-03 0.00000000e+00 1.60233671e-02 0.00000000e+00\n",
      "  9.00129320e-03 0.00000000e+00 9.67348741e-01]]\n"
     ]
    }
   ],
   "source": [
    "print(hmm_bio.A)"
   ]
  },
  {
   "cell_type": "code",
   "execution_count": 126,
   "id": "7ffcab5f",
   "metadata": {},
   "outputs": [
    {
     "name": "stdout",
     "output_type": "stream",
     "text": [
      "[[0. 0. 0. ... 0. 0. 0.]\n",
      " [0. 0. 0. ... 0. 0. 0.]\n",
      " [0. 0. 0. ... 0. 0. 0.]\n",
      " ...\n",
      " [0. 0. 0. ... 0. 0. 0.]\n",
      " [0. 0. 0. ... 0. 0. 0.]\n",
      " [0. 0. 0. ... 0. 0. 0.]]\n"
     ]
    }
   ],
   "source": [
    "print(hmm_bio.B)"
   ]
  },
  {
   "cell_type": "code",
   "execution_count": 127,
   "id": "918e1d3b",
   "metadata": {},
   "outputs": [
    {
     "name": "stdout",
     "output_type": "stream",
     "text": [
      "[5.73255952e-02 5.92206562e-05 5.82928659e-02 0.00000000e+00\n",
      " 6.97619330e-02 5.92206562e-05 8.14501165e-01]\n"
     ]
    }
   ],
   "source": [
    "print(hmm_bio.PI)"
   ]
  }
 ],
 "metadata": {
  "kernelspec": {
   "display_name": "Python 3 (ipykernel)",
   "language": "python",
   "name": "python3"
  },
  "language_info": {
   "codemirror_mode": {
    "name": "ipython",
    "version": 3
   },
   "file_extension": ".py",
   "mimetype": "text/x-python",
   "name": "python",
   "nbconvert_exporter": "python",
   "pygments_lexer": "ipython3",
   "version": "3.8.10"
  }
 },
 "nbformat": 4,
 "nbformat_minor": 5
}

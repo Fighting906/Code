{
 "cells": [
  {
   "cell_type": "code",
   "execution_count": 1,
   "id": "4063eba3",
   "metadata": {},
   "outputs": [],
   "source": [
    "#! /usr/bin/env python\n",
    "# -*-coding:utf-8-*-\n",
    "# Author: Ming Chen\n",
    "# create date: 2019-11-27 10:36:59\n",
    "# description: 使用HMM进行命名实体识别NER\n",
    "# 包括人名PER,地名LOC机构名ORG,其他O\n",
    "\n",
    "\n",
    "import numpy as np\n",
    "from tqdm import tqdm"
   ]
  },
  {
   "cell_type": "code",
   "execution_count": 2,
   "id": "4ccf7b8f",
   "metadata": {},
   "outputs": [],
   "source": [
    "\n",
    "class HMM_model:\n",
    "    def __init__(self):\n",
    "        self.n_tag = 7  # 表示所有标签个数\n",
    "        self.n_char = 65535  # 所有字符的Unicode编码个数\n",
    "        self.epsilon = 1e-100  # 无穷小量\n",
    "        self.tag2idx = {'B-PER': 0,\n",
    "                        'I-PER': 1,\n",
    "                        'B-LOC': 2,\n",
    "                        'I-LOC': 3,\n",
    "                        'B-ORG': 4,\n",
    "                        'I-ORG': 5,\n",
    "                        'O': 6}\n",
    "        self.idx2tag = dict(zip(self.tag2idx.values(), self.tag2idx.keys()))\n",
    "        self.A = np.zeros((self.n_tag, self.n_tag))  # 转移概率矩阵,shape:7*7\n",
    "        self.B = np.zeros((self.n_tag, self.n_char))  # 发射概率矩阵,shape:7*字的个数\n",
    "        self.pi = np.zeros(self.n_tag)  # 初始隐状态概率,shape：4\n",
    "\n",
    "    def train(self, corpus_path):\n",
    "        \"\"\"\n",
    "        函数说明： 训练HMM模型, 得到模型参数pi,A,B\n",
    "\n",
    "        Parameter：\n",
    "        ----------\n",
    "            corpus_path - 语料库的位置\n",
    "        Return:\n",
    "        -------\n",
    "            None\n",
    "        Author:\n",
    "        -------\n",
    "            Ming Chen\n",
    "        Modify:\n",
    "        -------\n",
    "            2019-11-27 13:42:50\n",
    "        \"\"\"\n",
    "        with open(corpus_path, mode='r', encoding='utf-8') as fr:\n",
    "            lines = fr.readlines()\n",
    "        print('开始训练数据：')\n",
    "        for i in tqdm(range(len(lines))):\n",
    "            if len(lines[i]) == 1:\n",
    "                continue\n",
    "            else:\n",
    "                cur_char, cur_tag = lines[i].split()\n",
    "                self.B[self.tag2idx[cur_tag]][ord(cur_char)] += 1\n",
    "                if len(lines[i - 1]) == 1:\n",
    "                    self.pi[self.tag2idx[cur_tag]] += 1\n",
    "                    continue\n",
    "                pre_char, pre_tag = lines[i - 1].split()\n",
    "                self.A[self.tag2idx[pre_tag]][self.tag2idx[cur_tag]] += 1\n",
    "        self.pi[self.pi == 0] = self.epsilon  # 防止数据下溢,对数据进行对数归一化\n",
    "        self.pi = np.log(self.pi) - np.log(np.sum(self.pi))\n",
    "        self.A[self.A == 0] = self.epsilon\n",
    "        self.A = np.log(self.A) - np.log(np.sum(self.A, axis=1, keepdims=True))\n",
    "        self.B[self.B == 0] = self.epsilon\n",
    "        self.B = np.log(self.B) - np.log(np.sum(self.B, axis=1, keepdims=True))\n",
    "        np.savetxt('pi', self.pi)\n",
    "        np.savetxt('A', self.A)\n",
    "        np.savetxt('B', self.B)\n",
    "        print('训练完毕！')\n",
    "\n",
    "    def viterbi(self, Obs):\n",
    "        \"\"\"\n",
    "        函数说明： 使用viterbi算法进行解码\n",
    "\n",
    "        Parameter：\n",
    "        ----------\n",
    "            Obs - 要解码的文本string\n",
    "        Return:\n",
    "        -------\n",
    "            path - 最可能的隐状态路径\n",
    "        Author:\n",
    "        -------\n",
    "            Ming Chen\n",
    "        Modify:\n",
    "        -------\n",
    "            2019-11-27 16:52:42\n",
    "        \"\"\"\n",
    "        T = len(Obs)\n",
    "        delta = np.zeros((T, self.n_tag))  # shape: 观测文本数量*7\n",
    "        psi = np.zeros((T, self.n_tag))  # shape: 观测文本数量*7\n",
    "        delta[0] = self.pi[:] + self.B[:, ord(Obs[0])]  # 初始化\n",
    "        for i in range(1, T):\n",
    "            temp = delta[i - 1].reshape(self.n_tag, -1) + self.A  # 这里运用到了矩阵的广播算法\n",
    "            delta[i] = np.max(temp, axis=0)\n",
    "            delta[i] = delta[i, :] + self.B[:, ord(Obs[i])]\n",
    "            psi[i] = np.argmax(temp, axis=0)\n",
    "        path = np.zeros(T)\n",
    "        path[T - 1] = np.argmax(delta[T - 1])\n",
    "        for i in range(T - 2, -1, -1):  # 回溯\n",
    "            path[i] = int(psi[i + 1][int(path[i + 1])])\n",
    "        return path\n",
    "\n",
    "    def predict(self, Obs):\n",
    "        \"\"\"\n",
    "        函数说明： 将文本进行命名实体识别\n",
    "\n",
    "        Parameter：\n",
    "        ----------\n",
    "            Obs - 要识别的文本\n",
    "        Return:\n",
    "        -------\n",
    "            None\n",
    "        Author:\n",
    "        -------\n",
    "            Ming Chen\n",
    "        Modify:\n",
    "        -------\n",
    "            2019-11-27 20:53:23\n",
    "        \"\"\"\n",
    "        T = len(Obs)\n",
    "        path = self.viterbi(Obs)\n",
    "        for i in range(T):\n",
    "            print(Obs[i]+self.idx2tag[path[i]]+'_|', end='')\n",
    "\n",
    "\n",
    "\n"
   ]
  },
  {
   "cell_type": "code",
   "execution_count": 3,
   "id": "ba63f098",
   "metadata": {},
   "outputs": [
    {
     "name": "stdout",
     "output_type": "stream",
     "text": [
      "开始训练数据：\n"
     ]
    },
    {
     "name": "stderr",
     "output_type": "stream",
     "text": [
      "100%|██████████| 2220537/2220537 [00:04<00:00, 507210.97it/s]\n"
     ]
    },
    {
     "name": "stdout",
     "output_type": "stream",
     "text": [
      "训练完毕！\n"
     ]
    }
   ],
   "source": [
    "model = HMM_model()\n",
    "model.train('corpus/BIO_train.txt')\n"
   ]
  },
  {
   "cell_type": "code",
   "execution_count": 7,
   "id": "feb5922d",
   "metadata": {},
   "outputs": [
    {
     "name": "stdout",
     "output_type": "stream",
     "text": [
      "到O_|了O_|中B-LOC_|国I-LOC_|哈I-LOC_|尔I-LOC_|滨I-LOC_|"
     ]
    }
   ],
   "source": [
    "s = '林徽因什么理由拒绝了徐志摩而选择梁思成为终身伴侣？' \\\n",
    "    '谢娜为李浩菲澄清网络谣言，之后她的两个行为给自己加分'\n",
    "s1='到了中国哈尔滨'\n",
    "model.predict(s1)"
   ]
  },
  {
   "cell_type": "code",
   "execution_count": 10,
   "id": "628cbee5",
   "metadata": {},
   "outputs": [
    {
     "name": "stdout",
     "output_type": "stream",
     "text": [
      "[[-5.51365589e+00 -5.61702715e-02 -2.40034845e+02 -2.40034845e+02\n",
      "  -2.40034845e+02 -2.40034845e+02 -2.98399134e+00]\n",
      " [-5.43172711e+00 -6.67433010e-01 -9.33706112e+00 -2.40694183e+02\n",
      "  -7.60246007e+00 -2.40694183e+02 -7.29783505e-01]\n",
      " [-2.40763988e+02 -2.40763988e+02 -3.13587769e+00 -1.79340929e-01\n",
      "  -8.10758314e+00 -2.40763988e+02 -2.11680064e+00]\n",
      " [-6.64874164e+00 -2.41066134e+02 -3.47918738e+00 -9.61872226e-01\n",
      "  -6.66449000e+00 -2.41066134e+02 -5.37135734e-01]\n",
      " [-2.40190050e+02 -2.40190050e+02 -2.40190050e+02 -2.40190050e+02\n",
      "  -7.09832702e+00 -4.43394884e-03 -5.62747527e+00]\n",
      " [-6.65128472e+00 -2.41591925e+02 -5.42805410e+00 -2.41591925e+02\n",
      "  -7.96612012e+00 -2.80876513e-01 -1.43193040e+00]\n",
      " [-4.87611332e+00 -2.44703965e+02 -4.13370718e+00 -2.44703965e+02\n",
      "  -4.71038702e+00 -2.44703965e+02 -3.31962064e-02]]\n",
      "[[-240.03501539 -240.03501539 -240.03501539 ... -240.03501539\n",
      "  -240.03501539 -240.03501539]\n",
      " [-240.69623622 -240.69623622 -240.69623622 ... -240.69623622\n",
      "  -240.69623622 -240.69623622]\n",
      " [-240.76404248 -240.76404248 -240.76404248 ... -240.76404248\n",
      "  -240.76404248 -240.76404248]\n",
      " ...\n",
      " [-240.1901469  -240.1901469  -240.1901469  ... -240.1901469\n",
      "  -240.1901469  -240.1901469 ]\n",
      " [-241.59212866 -241.59212866 -241.59212866 ... -241.59212866\n",
      "  -241.59212866 -241.59212866]\n",
      " [-244.73053936 -244.73053936 -244.73053936 ... -244.73053936\n",
      "  -244.73053936 -244.73053936]]\n"
     ]
    }
   ],
   "source": [
    "print(model.A)\n",
    "print(model.B)\n"
   ]
  },
  {
   "cell_type": "code",
   "execution_count": 11,
   "id": "40826240",
   "metadata": {},
   "outputs": [
    {
     "name": "stdout",
     "output_type": "stream",
     "text": [
      "[-2.85900807e+00 -9.73424016e+00 -2.84227556e+00 -2.41091362e+02\n",
      " -2.66266679e+00 -9.73424016e+00 -2.05179421e-01]\n"
     ]
    }
   ],
   "source": [
    "print(model.pi)"
   ]
  }
 ],
 "metadata": {
  "kernelspec": {
   "display_name": "Python 3 (ipykernel)",
   "language": "python",
   "name": "python3"
  },
  "language_info": {
   "codemirror_mode": {
    "name": "ipython",
    "version": 3
   },
   "file_extension": ".py",
   "mimetype": "text/x-python",
   "name": "python",
   "nbconvert_exporter": "python",
   "pygments_lexer": "ipython3",
   "version": "3.8.10"
  }
 },
 "nbformat": 4,
 "nbformat_minor": 5
}
